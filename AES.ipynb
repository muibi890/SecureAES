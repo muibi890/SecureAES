{
 "cells": [
  {
   "cell_type": "code",
   "execution_count": 1,
   "metadata": {},
   "outputs": [],
   "source": [
    "def enter_block():\n",
    "    \"\"\"Function that takes input of a hexadecimal number\"\"\"\n",
    "    while True:\n",
    "        textblock = input(\"Enter a 16-bit hexadecimal number:\")\n",
    "        try:\n",
    "            decimal = int(textblock, 16)\n",
    "            if 0 <= decimal <= 0xFFFF:\n",
    "                #calculating the binary equivalent\n",
    "                binaryeq = bin(decimal)\n",
    "                return textblock\n",
    "            else:\n",
    "                print(\"Input is not within the 16-bit range.\")\n",
    "        except ValueError:\n",
    "            print(\"Input is not a hexadecimal number.\")"
   ]
  },
  {
   "cell_type": "code",
   "execution_count": 2,
   "metadata": {},
   "outputs": [],
   "source": [
    "\n",
    "def convertmatrix(textblock):\n",
    "    \n",
    "    while len(textblock) % 2 != 0:\n",
    "        textblock += '0'\n",
    "\n",
    "    \n",
    "    matrix = [['0' for _ in range(2)] for _ in range(2)]  #initialising the matrix with 0\n",
    "\n",
    "    # Populate the matrix column by column\n",
    "    for i in range(2):\n",
    "        for j in range(2):\n",
    "            matrix[j][i] = textblock[i * 2 + j]   # i * 2 + j writes the text block column wise to the matrix\n",
    "\n",
    "    return matrix\n"
   ]
  },
  {
   "cell_type": "code",
   "execution_count": 3,
   "metadata": {},
   "outputs": [],
   "source": [
    "stable = {\n",
    "    '0000': '1010', '0001': '0000', '0010': '1001', '0011': '1110',\n",
    "    '0100': '0110', '0101': '0011', '0110': '1111', '0111': '0101',\n",
    "    '1000': '0001', '1001': '1101', '1010': '1100', '1011': '0111',\n",
    "    '1100': '1011', '1101': '0100', '1110': '0010', '1111': '1000'\n",
    "}\n",
    "\n",
    "reverse_stable = {\n",
    "    '1010': '0000', '0000': '0001', '1001': '0010', '1110': '0011',\n",
    "    '0110': '0100', '0011': '0101', '1111': '0110', '0101': '0111',\n",
    "    '0001': '1000', '1101': '1001', '1100': '1010', '0111': '1011',\n",
    "    '1011': '1100', '0100': '1101', '0010': '1110', '1000': '1111'\n",
    "}\n"
   ]
  },
  {
   "cell_type": "code",
   "execution_count": 4,
   "metadata": {},
   "outputs": [],
   "source": [
    "def subnibble(hex_string, reverse):\n",
    "    result = ''\n",
    "    if reverse == False:\n",
    "        s_box = stable \n",
    "    else:\n",
    "        #s_box = {v: k for k, v in stable.items()}\n",
    "        s_box = reverse_stable\n",
    "\n",
    "    binaryeq = ''.join(bin(int(hex_digit, 16))[2:].zfill(4) for hex_digit in hex_string)\n",
    "    for i in range(0, len(binaryeq), 4):\n",
    "        nibble = binaryeq[i:i+4]\n",
    "        subnibble = s_box[nibble]\n",
    "        result += subnibble\n",
    "    return hex(int(result, 2))[2:].zfill(4)\n"
   ]
  },
  {
   "cell_type": "code",
   "execution_count": 5,
   "metadata": {},
   "outputs": [],
   "source": [
    "\n",
    "def shift_row(matrix):\n",
    "    \"\"\"Performs shift row opeartion on the matrix\"\"\"\n",
    "    if len(matrix) != 2 or len(matrix[0]) != 2 or len(matrix[1]) != 2:\n",
    "        raise ValueError(\"Input matrix must be a 2x2 matrix.\")\n",
    "    \n",
    "    matrix[0] = matrix[0][-1:] + matrix[0][:-1]\n",
    "    #print(\"Shiftrow: \" + matrix[0][0] + matrix[1][0] + matrix[0][1] + matrix[1][1])\n",
    "    return matrix\n",
    "\n"
   ]
  },
  {
   "cell_type": "code",
   "execution_count": 6,
   "metadata": {},
   "outputs": [],
   "source": [
    "def finite_field_multiply(a, b):\n",
    "    a_int = int(a)  # Convert 'a' to an integer (assuming it's already in binary)\n",
    "    b_int = int(b, 16)  # Convert 'b' from a hexadecimal\n",
    "    m = 0\n",
    "    \n",
    "    while (b_int) > 0:\n",
    "        if b_int & 1:  \n",
    "            m = m ^ a_int  \n",
    "        \n",
    "        if a_int & 0x8:  \n",
    "            a_int = (a_int << 1) ^ int('0x13', 16)  \n",
    "        else:\n",
    "            a_int <<= 1  \n",
    "        \n",
    "        b_int >>= 1 \n",
    "    return m"
   ]
  },
  {
   "cell_type": "code",
   "execution_count": 7,
   "metadata": {},
   "outputs": [],
   "source": [
    "mat = [[0,0],\n",
    "       [0,0]]\n",
    "\n",
    "constmat = [[1, 4],\n",
    "            [4, 1]]\n",
    "\n",
    "inversemat = [[9,2],\n",
    "              [2,9]]"
   ]
  },
  {
   "cell_type": "code",
   "execution_count": 8,
   "metadata": {},
   "outputs": [],
   "source": [
    "def mix_columns(cmat, matrix):\n",
    "    mat[0][0] = finite_field_multiply(cmat[0][0], matrix[0][0]) ^ finite_field_multiply(cmat[0][1], matrix[1][0])\n",
    "    mat[1][0] = finite_field_multiply(cmat[1][0], matrix[0][0]) ^ finite_field_multiply(cmat[1][1], matrix[1][0])\n",
    "    mat[0][1] = finite_field_multiply(cmat[0][0], matrix[0][1]) ^ finite_field_multiply(cmat[0][1], matrix[1][1])\n",
    "    mat[1][1] = finite_field_multiply(cmat[1][0], matrix[0][1]) ^ finite_field_multiply(cmat[1][1], matrix[1][1])\n",
    "    \n",
    "    mat[0][0] = hex(mat[0][0])[2:]\n",
    "    mat[1][0] = hex(mat[1][0])[2:]\n",
    "    mat[0][1] = hex(mat[0][1])[2:]\n",
    "    mat[1][1] = hex(mat[1][1])[2:]\n",
    "    \n",
    "    val = mat[0][0] + mat[1][0] + mat[0][1] + mat[1][1]\n",
    "    return mat\n",
    "\n",
    "\n"
   ]
  },
  {
   "cell_type": "code",
   "execution_count": 9,
   "metadata": {},
   "outputs": [
    {
     "name": "stdout",
     "output_type": "stream",
     "text": [
      "MixColumns: [['9', '9'], ['2', '7']]\n"
     ]
    }
   ],
   "source": [
    "print('MixColumns:' , mix_columns(constmat, convertmatrix(enter_block())))"
   ]
  },
  {
   "cell_type": "code",
   "execution_count": 10,
   "metadata": {},
   "outputs": [],
   "source": [
    "def get_hexadecimal_key():\n",
    "    while True:\n",
    "        user_input = input(\"Enter a 16-bit hexadecimal key: \").strip()  \n",
    "        if len(user_input) == 4 and all(c in '0123456789abcdefABCDEF' for c in user_input):\n",
    "            return user_input  \n",
    "\n",
    "        print(\"Invalid input. Please enter a 16-bit hexadecimal key\")\n",
    "\n"
   ]
  },
  {
   "cell_type": "code",
   "execution_count": 9,
   "metadata": {},
   "outputs": [],
   "source": [
    "keymat = convertmatrix(get_hexadecimal_key())"
   ]
  },
  {
   "cell_type": "code",
   "execution_count": 11,
   "metadata": {},
   "outputs": [],
   "source": [
    "def generate_roundkeys(keymat, reverse):\n",
    "    w4 = int(keymat[0][0], 16) ^ int(subnibble(keymat[1][1], reverse),16) ^ int('e', 16)\n",
    "    w5 = int(keymat[1][0], 16) ^ w4\n",
    "    w6 = int(keymat[0][1], 16) ^ w5\n",
    "    w7 = int(keymat[1][1], 16) ^ w6\n",
    "\n",
    "    hw4 = hex(w4)[2:]\n",
    "    hw5 = hex(w5)[2:]\n",
    "    hw6 = hex(w6)[2:]\n",
    "    hw7 = hex(w7)[2:]\n",
    "\n",
    "    roundkey1 = hw4 + hw5 + hw6 + hw7\n",
    "\n",
    "    w8 = w4 ^ int(subnibble(hw7 , reverse), 16) ^ int('a', 16)\n",
    "    w9 = w5 ^ w8\n",
    "    w10 = w6 ^ w9\n",
    "    w11 = w7 ^ w10\n",
    "    \n",
    "    hw8 = hex(w8)[2:]\n",
    "    hw9 = hex(w9)[2:]\n",
    "    hw10 = hex(w10)[2:]\n",
    "    hw11 = hex(w11)[2:]\n",
    "    roundkey2 = hw8 + hw9 + hw10 + hw11\n",
    "\n",
    "    return roundkey1 , roundkey2 \n",
    "\n",
    "\n"
   ]
  },
  {
   "cell_type": "code",
   "execution_count": 17,
   "metadata": {},
   "outputs": [
    {
     "name": "stdout",
     "output_type": "stream",
     "text": [
      "Deliverable 1\n",
      "TextBlock: 903b\n",
      "SubNibbles(903b): dae7\n",
      "Shiftrow(903b): 309b\n",
      "Mix Columns(903b): 9297\n",
      "Generated Round Keys(02cc): (57b7 , ad61)\n"
     ]
    }
   ],
   "source": [
    "#Block of code that tests each of the functions used above\n",
    "textblock = enter_block()\n",
    "print(\"Deliverable 1\")\n",
    "print(\"TextBlock:\", textblock)\n",
    "# key = get_hexadecimal_key()\n",
    "print('SubNibbles(' + textblock + '): ' + subnibble(textblock, False))\n",
    "sr = shift_row(convertmatrix(textblock))\n",
    "print(\"Shiftrow(\"+ textblock+'): ' + sr[0][0] + sr[1][0] + sr[0][1] + sr[1][1])\n",
    "mc = mix_columns(constmat, convertmatrix(textblock))\n",
    "print(\"Mix Columns(\" + textblock + '): ' + mc[0][0] + mc[1][0] + mc[0][1] + mc[1][1])\n",
    "key = get_hexadecimal_key()\n",
    "r1 , r2 = generate_roundkeys(convertmatrix(key), False)\n",
    "print(\"Generated Round Keys(\" + key + '): (' + r1 + ' , ' + r2 + ')')"
   ]
  },
  {
   "cell_type": "code",
   "execution_count": 13,
   "metadata": {},
   "outputs": [],
   "source": [
    "def decryption(textblock, key):\n",
    "    \"\"\"Function that takes the cipher text and the key as input and returns the plain text\"\"\"\n",
    "    shifted_row = shift_row(convertmatrix(textblock))\n",
    "    \n",
    "    k1, k2 = generate_roundkeys(convertmatrix(key), False)\n",
    "  \n",
    "    shiftval = shifted_row[0][0] + shifted_row[1][0] + shifted_row[0][1] + shifted_row[1][1]\n",
    "    \n",
    "    xorval =  int(k2, 16) ^ int(shiftval, 16) \n",
    "    xorval =hex(xorval)[2:].zfill(4)\n",
    "    snval = subnibble(xorval, True)\n",
    "    \n",
    "    shifted_row = shift_row(convertmatrix(snval))\n",
    "  \n",
    "    mixmat = mix_columns(inversemat , shifted_row)\n",
    "   \n",
    "    mixstr = mixmat[0][0] + mixmat[1][0] + mixmat[0][1] + mixmat[1][1]\n",
    "  \n",
    "    xorval = int(k1, 16) ^ int(mixstr, 16)\n",
    "   \n",
    "    snval = subnibble(hex(xorval)[2:], True)\n",
    "   \n",
    "    return snval\n",
    " "
   ]
  },
  {
   "cell_type": "code",
   "execution_count": 18,
   "metadata": {},
   "outputs": [
    {
     "name": "stdout",
     "output_type": "stream",
     "text": [
      "Deliverable 2\n",
      "Cipher Text Block: f3d7\n",
      "Key Entered: 40ee\n",
      "Decrypted Block: e282\n"
     ]
    }
   ],
   "source": [
    "#Block of code that tests the decryption functions used above\n",
    "textblock = enter_block()\n",
    "print(\"Deliverable 2\")\n",
    "print(\"Cipher Text Block: \" + textblock)\n",
    "key = get_hexadecimal_key()\n",
    "print(\"Key Entered: \" + key)\n",
    "decrypted_block = decryption(textblock , key)\n",
    "print(\"Decrypted Block: \" + decrypted_block)"
   ]
  },
  {
   "cell_type": "code",
   "execution_count": 15,
   "metadata": {},
   "outputs": [
    {
     "name": "stdout",
     "output_type": "stream",
     "text": [
      "731f\n"
     ]
    }
   ],
   "source": [
    "def encryption(textblock, key):\n",
    "    \"\"\"Function that takes the plain text and the key as input and returns the cipher text\"\"\"\n",
    "    snval = subnibble(textblock , False)\n",
    "    k1, k2 = generate_roundkeys(convertmatrix(key) , False)\n",
    "    xorval = int(snval, 16) ^ int(k1, 16)\n",
    "    mixmat = mix_columns(constmat, convertmatrix(hex(xorval)[2:]))\n",
    "    shifted_row = shift_row(mixmat)\n",
    "    srval = shifted_row[0][0] + shifted_row[1][0] + shifted_row[0][1] + shifted_row[1][1]\n",
    "    sn = subnibble(srval, False)\n",
    "    xorval = int(sn, 16) ^ int(k2, 16)\n",
    "    shifted_row = shift_row(convertmatrix(hex(xorval)[2:]))\n",
    "    encrypted_value = shifted_row[0][0] + shifted_row[1][0] + shifted_row[0][1] + shifted_row[1][1]\n",
    "    print(encrypted_value)\n",
    "encryption('2e00' , '149c')"
   ]
  },
  {
   "cell_type": "code",
   "execution_count": 19,
   "metadata": {},
   "outputs": [
    {
     "name": "stdout",
     "output_type": "stream",
     "text": [
      "116\n",
      "Decrypted Result:\n",
      "------------------------------------\n",
      "Gentlemen, you can't fight in here. This is the war room.\u0000\n",
      "-----------------------------------------------\n"
     ]
    }
   ],
   "source": [
    "\n",
    "\n",
    "def decrypt_text(ciphertext, key):\n",
    "    \"\"\"Function that takes the cipher text and the key as input and returns the plain text\"\"\"\n",
    "    plaintext = []\n",
    "    strtext = ''\n",
    "    print(len(ciphertext))\n",
    "    for i in range(0, len(ciphertext)-1, 4):\n",
    "        encrypted_block = ciphertext[i:i+4]\n",
    "        decrypted_block = decryption(encrypted_block, key)\n",
    "\n",
    "        for j in range(0, len(decrypted_block), 2):\n",
    "            char = chr(int(decrypted_block[j:j+2], 16))\n",
    "            strtext += char\n",
    "            plaintext.append(char)\n",
    "    print(\"Decrypted Result:\")\n",
    "    print(\"------------------------------------\")\n",
    "    print(strtext)\n",
    "    print(\"-----------------------------------------------\")\n",
    "    nullremovedtext = ''.join(plaintext).rstrip('\\x00')\n",
    "    return ''.join(nullremovedtext)\n",
    "    \n",
    "\n",
    "with open('secret.txt', 'r') as file:\n",
    "    cipher = file.read().replace(\" \", \"\")\n",
    "\n",
    "key = get_hexadecimal_key()\n",
    "\n",
    "plaintext = decrypt_text(cipher, key)\n",
    "\n",
    "\n",
    "with open('plain.txt', 'w') as file:\n",
    "    file.write(plaintext)\n",
    "\n",
    "\n"
   ]
  }
 ],
 "metadata": {
  "kernelspec": {
   "display_name": "Python 3",
   "language": "python",
   "name": "python3"
  },
  "language_info": {
   "codemirror_mode": {
    "name": "ipython",
    "version": 3
   },
   "file_extension": ".py",
   "mimetype": "text/x-python",
   "name": "python",
   "nbconvert_exporter": "python",
   "pygments_lexer": "ipython3",
   "version": "3.11.4"
  },
  "orig_nbformat": 4
 },
 "nbformat": 4,
 "nbformat_minor": 2
}
